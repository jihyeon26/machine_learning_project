{
 "cells": [
  {
   "cell_type": "code",
   "execution_count": 33,
   "metadata": {},
   "outputs": [
    {
     "name": "stdout",
     "output_type": "stream",
     "text": [
      "                   PBLPRFR_NM PBLPRFR_PLACE_NM  PBLPRFR_DE  PBLPRFR_TIME  \\\n",
      "0  국립합창단 창단 50주년 기념 <한국합창교향곡>             콘서트홀    20230321        193000   \n",
      "1  국립합창단 창단 50주년 기념 <한국합창교향곡>             콘서트홀    20230321        193000   \n",
      "2  국립합창단 창단 50주년 기념 <한국합창교향곡>             콘서트홀    20230321        193000   \n",
      "3  국립합창단 창단 50주년 기념 <한국합창교향곡>             콘서트홀    20230321        193000   \n",
      "4  국립합창단 창단 50주년 기념 <한국합창교향곡>             콘서트홀    20230321        193000   \n",
      "\n",
      "  GENRE_NM                             PRC_CN  \\\n",
      "0       합창  R석 30000원 / S석 20000원 / A석 10000원   \n",
      "1       합창  R석 30000원 / S석 20000원 / A석 10000원   \n",
      "2       합창  R석 30000원 / S석 20000원 / A석 10000원   \n",
      "3       합창  R석 30000원 / S석 20000원 / A석 10000원   \n",
      "4       합창  R석 30000원 / S석 20000원 / A석 10000원   \n",
      "\n",
      "                                            HMPG_URL  SETLE_DE  SETLE_TIME  \\\n",
      "0  https://www.sac.or.kr/site/main/show/show_view...  20230308       70000   \n",
      "1  https://www.sac.or.kr/site/main/show/show_view...  20230221      190000   \n",
      "2  https://www.sac.or.kr/site/main/show/show_view...  20230228       10000   \n",
      "3  https://www.sac.or.kr/site/main/show/show_view...  20230226      100000   \n",
      "4  https://www.sac.or.kr/site/main/show/show_view...  20230320      230000   \n",
      "\n",
      "     DSCNT_CN  SETLE_PRICE MBER_GRAD_NM BN_VALUE SEXDSTN_VALUE OC_AREA_NM  \\\n",
      "0       기타 할인      24000.0           무료      50대             F         경기   \n",
      "1       기타 할인      10000.0           블루      60대             M         서울   \n",
      "2       기타 할인       8000.0           무료      60대             M         서울   \n",
      "3       기타 할인      24000.0           무료      40대             M         서울   \n",
      "4  골드회원 할인40%      18000.0           골드      60대             F         서울   \n",
      "\n",
      "  RFN_AT  \n",
      "0      N  \n",
      "1      N  \n",
      "2      N  \n",
      "3      N  \n",
      "4      N  \n"
     ]
    }
   ],
   "source": [
    "import gzip\n",
    "import pandas as pd\n",
    "\n",
    "with gzip.open('performance_data.csv.gz', 'rt', encoding='utf-8') as f:\n",
    "    data = pd.read_csv(f)\n",
    "\n",
    "# 데이터프레임 출력\n",
    "print(data.head())"
   ]
  },
  {
   "cell_type": "code",
   "execution_count": 34,
   "metadata": {},
   "outputs": [
    {
     "data": {
      "text/html": [
       "<div>\n",
       "<style scoped>\n",
       "    .dataframe tbody tr th:only-of-type {\n",
       "        vertical-align: middle;\n",
       "    }\n",
       "\n",
       "    .dataframe tbody tr th {\n",
       "        vertical-align: top;\n",
       "    }\n",
       "\n",
       "    .dataframe thead th {\n",
       "        text-align: right;\n",
       "    }\n",
       "</style>\n",
       "<table border=\"1\" class=\"dataframe\">\n",
       "  <thead>\n",
       "    <tr style=\"text-align: right;\">\n",
       "      <th></th>\n",
       "      <th>PBLPRFR_NM</th>\n",
       "      <th>PBLPRFR_PLACE_NM</th>\n",
       "      <th>PBLPRFR_DE</th>\n",
       "      <th>PBLPRFR_TIME</th>\n",
       "      <th>GENRE_NM</th>\n",
       "      <th>PRC_CN</th>\n",
       "      <th>HMPG_URL</th>\n",
       "      <th>SETLE_DE</th>\n",
       "      <th>SETLE_TIME</th>\n",
       "      <th>DSCNT_CN</th>\n",
       "      <th>SETLE_PRICE</th>\n",
       "      <th>MBER_GRAD_NM</th>\n",
       "      <th>BN_VALUE</th>\n",
       "      <th>SEXDSTN_VALUE</th>\n",
       "      <th>OC_AREA_NM</th>\n",
       "      <th>RFN_AT</th>\n",
       "    </tr>\n",
       "  </thead>\n",
       "  <tbody>\n",
       "    <tr>\n",
       "      <th>0</th>\n",
       "      <td>국립합창단 창단 50주년 기념 &lt;한국합창교향곡&gt;</td>\n",
       "      <td>콘서트홀</td>\n",
       "      <td>20230321</td>\n",
       "      <td>193000</td>\n",
       "      <td>합창</td>\n",
       "      <td>R석 30000원 / S석 20000원 / A석 10000원</td>\n",
       "      <td>https://www.sac.or.kr/site/main/show/show_view...</td>\n",
       "      <td>20230308</td>\n",
       "      <td>70000</td>\n",
       "      <td>기타 할인</td>\n",
       "      <td>24000.0</td>\n",
       "      <td>무료</td>\n",
       "      <td>50대</td>\n",
       "      <td>F</td>\n",
       "      <td>경기</td>\n",
       "      <td>N</td>\n",
       "    </tr>\n",
       "    <tr>\n",
       "      <th>1</th>\n",
       "      <td>국립합창단 창단 50주년 기념 &lt;한국합창교향곡&gt;</td>\n",
       "      <td>콘서트홀</td>\n",
       "      <td>20230321</td>\n",
       "      <td>193000</td>\n",
       "      <td>합창</td>\n",
       "      <td>R석 30000원 / S석 20000원 / A석 10000원</td>\n",
       "      <td>https://www.sac.or.kr/site/main/show/show_view...</td>\n",
       "      <td>20230221</td>\n",
       "      <td>190000</td>\n",
       "      <td>기타 할인</td>\n",
       "      <td>10000.0</td>\n",
       "      <td>블루</td>\n",
       "      <td>60대</td>\n",
       "      <td>M</td>\n",
       "      <td>서울</td>\n",
       "      <td>N</td>\n",
       "    </tr>\n",
       "    <tr>\n",
       "      <th>2</th>\n",
       "      <td>국립합창단 창단 50주년 기념 &lt;한국합창교향곡&gt;</td>\n",
       "      <td>콘서트홀</td>\n",
       "      <td>20230321</td>\n",
       "      <td>193000</td>\n",
       "      <td>합창</td>\n",
       "      <td>R석 30000원 / S석 20000원 / A석 10000원</td>\n",
       "      <td>https://www.sac.or.kr/site/main/show/show_view...</td>\n",
       "      <td>20230228</td>\n",
       "      <td>10000</td>\n",
       "      <td>기타 할인</td>\n",
       "      <td>8000.0</td>\n",
       "      <td>무료</td>\n",
       "      <td>60대</td>\n",
       "      <td>M</td>\n",
       "      <td>서울</td>\n",
       "      <td>N</td>\n",
       "    </tr>\n",
       "    <tr>\n",
       "      <th>3</th>\n",
       "      <td>국립합창단 창단 50주년 기념 &lt;한국합창교향곡&gt;</td>\n",
       "      <td>콘서트홀</td>\n",
       "      <td>20230321</td>\n",
       "      <td>193000</td>\n",
       "      <td>합창</td>\n",
       "      <td>R석 30000원 / S석 20000원 / A석 10000원</td>\n",
       "      <td>https://www.sac.or.kr/site/main/show/show_view...</td>\n",
       "      <td>20230226</td>\n",
       "      <td>100000</td>\n",
       "      <td>기타 할인</td>\n",
       "      <td>24000.0</td>\n",
       "      <td>무료</td>\n",
       "      <td>40대</td>\n",
       "      <td>M</td>\n",
       "      <td>서울</td>\n",
       "      <td>N</td>\n",
       "    </tr>\n",
       "    <tr>\n",
       "      <th>4</th>\n",
       "      <td>국립합창단 창단 50주년 기념 &lt;한국합창교향곡&gt;</td>\n",
       "      <td>콘서트홀</td>\n",
       "      <td>20230321</td>\n",
       "      <td>193000</td>\n",
       "      <td>합창</td>\n",
       "      <td>R석 30000원 / S석 20000원 / A석 10000원</td>\n",
       "      <td>https://www.sac.or.kr/site/main/show/show_view...</td>\n",
       "      <td>20230320</td>\n",
       "      <td>230000</td>\n",
       "      <td>골드회원 할인40%</td>\n",
       "      <td>18000.0</td>\n",
       "      <td>골드</td>\n",
       "      <td>60대</td>\n",
       "      <td>F</td>\n",
       "      <td>서울</td>\n",
       "      <td>N</td>\n",
       "    </tr>\n",
       "  </tbody>\n",
       "</table>\n",
       "</div>"
      ],
      "text/plain": [
       "                   PBLPRFR_NM PBLPRFR_PLACE_NM  PBLPRFR_DE  PBLPRFR_TIME  \\\n",
       "0  국립합창단 창단 50주년 기념 <한국합창교향곡>             콘서트홀    20230321        193000   \n",
       "1  국립합창단 창단 50주년 기념 <한국합창교향곡>             콘서트홀    20230321        193000   \n",
       "2  국립합창단 창단 50주년 기념 <한국합창교향곡>             콘서트홀    20230321        193000   \n",
       "3  국립합창단 창단 50주년 기념 <한국합창교향곡>             콘서트홀    20230321        193000   \n",
       "4  국립합창단 창단 50주년 기념 <한국합창교향곡>             콘서트홀    20230321        193000   \n",
       "\n",
       "  GENRE_NM                             PRC_CN  \\\n",
       "0       합창  R석 30000원 / S석 20000원 / A석 10000원   \n",
       "1       합창  R석 30000원 / S석 20000원 / A석 10000원   \n",
       "2       합창  R석 30000원 / S석 20000원 / A석 10000원   \n",
       "3       합창  R석 30000원 / S석 20000원 / A석 10000원   \n",
       "4       합창  R석 30000원 / S석 20000원 / A석 10000원   \n",
       "\n",
       "                                            HMPG_URL  SETLE_DE  SETLE_TIME  \\\n",
       "0  https://www.sac.or.kr/site/main/show/show_view...  20230308       70000   \n",
       "1  https://www.sac.or.kr/site/main/show/show_view...  20230221      190000   \n",
       "2  https://www.sac.or.kr/site/main/show/show_view...  20230228       10000   \n",
       "3  https://www.sac.or.kr/site/main/show/show_view...  20230226      100000   \n",
       "4  https://www.sac.or.kr/site/main/show/show_view...  20230320      230000   \n",
       "\n",
       "     DSCNT_CN  SETLE_PRICE MBER_GRAD_NM BN_VALUE SEXDSTN_VALUE OC_AREA_NM  \\\n",
       "0       기타 할인      24000.0           무료      50대             F         경기   \n",
       "1       기타 할인      10000.0           블루      60대             M         서울   \n",
       "2       기타 할인       8000.0           무료      60대             M         서울   \n",
       "3       기타 할인      24000.0           무료      40대             M         서울   \n",
       "4  골드회원 할인40%      18000.0           골드      60대             F         서울   \n",
       "\n",
       "  RFN_AT  \n",
       "0      N  \n",
       "1      N  \n",
       "2      N  \n",
       "3      N  \n",
       "4      N  "
      ]
     },
     "execution_count": 34,
     "metadata": {},
     "output_type": "execute_result"
    }
   ],
   "source": [
    "data.head()"
   ]
  },
  {
   "cell_type": "code",
   "execution_count": 35,
   "metadata": {},
   "outputs": [
    {
     "name": "stdout",
     "output_type": "stream",
     "text": [
      "<class 'pandas.core.frame.DataFrame'>\n",
      "RangeIndex: 3664663 entries, 0 to 3664662\n",
      "Data columns (total 16 columns):\n",
      " #   Column            Dtype  \n",
      "---  ------            -----  \n",
      " 0   PBLPRFR_NM        object \n",
      " 1   PBLPRFR_PLACE_NM  object \n",
      " 2   PBLPRFR_DE        int64  \n",
      " 3   PBLPRFR_TIME      int64  \n",
      " 4   GENRE_NM          object \n",
      " 5   PRC_CN            object \n",
      " 6   HMPG_URL          object \n",
      " 7   SETLE_DE          int64  \n",
      " 8   SETLE_TIME        int64  \n",
      " 9   DSCNT_CN          object \n",
      " 10  SETLE_PRICE       float64\n",
      " 11  MBER_GRAD_NM      object \n",
      " 12  BN_VALUE          object \n",
      " 13  SEXDSTN_VALUE     object \n",
      " 14  OC_AREA_NM        object \n",
      " 15  RFN_AT            object \n",
      "dtypes: float64(1), int64(4), object(11)\n",
      "memory usage: 447.3+ MB\n"
     ]
    }
   ],
   "source": [
    "data.info()"
   ]
  },
  {
   "cell_type": "code",
   "execution_count": 36,
   "metadata": {},
   "outputs": [
    {
     "data": {
      "text/html": [
       "<div>\n",
       "<style scoped>\n",
       "    .dataframe tbody tr th:only-of-type {\n",
       "        vertical-align: middle;\n",
       "    }\n",
       "\n",
       "    .dataframe tbody tr th {\n",
       "        vertical-align: top;\n",
       "    }\n",
       "\n",
       "    .dataframe thead th {\n",
       "        text-align: right;\n",
       "    }\n",
       "</style>\n",
       "<table border=\"1\" class=\"dataframe\">\n",
       "  <thead>\n",
       "    <tr style=\"text-align: right;\">\n",
       "      <th></th>\n",
       "      <th>PBLPRFR_DE</th>\n",
       "      <th>PBLPRFR_TIME</th>\n",
       "      <th>SETLE_DE</th>\n",
       "      <th>SETLE_TIME</th>\n",
       "      <th>SETLE_PRICE</th>\n",
       "    </tr>\n",
       "  </thead>\n",
       "  <tbody>\n",
       "    <tr>\n",
       "      <th>count</th>\n",
       "      <td>3.664663e+06</td>\n",
       "      <td>3.664663e+06</td>\n",
       "      <td>3.664663e+06</td>\n",
       "      <td>3.664663e+06</td>\n",
       "      <td>3.664663e+06</td>\n",
       "    </tr>\n",
       "    <tr>\n",
       "      <th>mean</th>\n",
       "      <td>2.018789e+07</td>\n",
       "      <td>1.757394e+05</td>\n",
       "      <td>2.018691e+07</td>\n",
       "      <td>1.242456e+05</td>\n",
       "      <td>5.648740e+04</td>\n",
       "    </tr>\n",
       "    <tr>\n",
       "      <th>std</th>\n",
       "      <td>2.854110e+04</td>\n",
       "      <td>2.864481e+04</td>\n",
       "      <td>2.883597e+04</td>\n",
       "      <td>6.205054e+04</td>\n",
       "      <td>5.400857e+04</td>\n",
       "    </tr>\n",
       "    <tr>\n",
       "      <th>min</th>\n",
       "      <td>2.015010e+07</td>\n",
       "      <td>0.000000e+00</td>\n",
       "      <td>2.014092e+07</td>\n",
       "      <td>0.000000e+00</td>\n",
       "      <td>0.000000e+00</td>\n",
       "    </tr>\n",
       "    <tr>\n",
       "      <th>25%</th>\n",
       "      <td>2.016080e+07</td>\n",
       "      <td>1.500000e+05</td>\n",
       "      <td>2.016060e+07</td>\n",
       "      <td>9.000000e+04</td>\n",
       "      <td>2.000000e+04</td>\n",
       "    </tr>\n",
       "    <tr>\n",
       "      <th>50%</th>\n",
       "      <td>2.018113e+07</td>\n",
       "      <td>1.930000e+05</td>\n",
       "      <td>2.018101e+07</td>\n",
       "      <td>1.400000e+05</td>\n",
       "      <td>4.000000e+04</td>\n",
       "    </tr>\n",
       "    <tr>\n",
       "      <th>75%</th>\n",
       "      <td>2.022033e+07</td>\n",
       "      <td>2.000000e+05</td>\n",
       "      <td>2.022022e+07</td>\n",
       "      <td>1.600000e+05</td>\n",
       "      <td>8.000000e+04</td>\n",
       "    </tr>\n",
       "    <tr>\n",
       "      <th>max</th>\n",
       "      <td>2.023123e+07</td>\n",
       "      <td>2.200000e+05</td>\n",
       "      <td>2.023123e+07</td>\n",
       "      <td>2.300000e+05</td>\n",
       "      <td>5.500000e+05</td>\n",
       "    </tr>\n",
       "  </tbody>\n",
       "</table>\n",
       "</div>"
      ],
      "text/plain": [
       "         PBLPRFR_DE  PBLPRFR_TIME      SETLE_DE    SETLE_TIME   SETLE_PRICE\n",
       "count  3.664663e+06  3.664663e+06  3.664663e+06  3.664663e+06  3.664663e+06\n",
       "mean   2.018789e+07  1.757394e+05  2.018691e+07  1.242456e+05  5.648740e+04\n",
       "std    2.854110e+04  2.864481e+04  2.883597e+04  6.205054e+04  5.400857e+04\n",
       "min    2.015010e+07  0.000000e+00  2.014092e+07  0.000000e+00  0.000000e+00\n",
       "25%    2.016080e+07  1.500000e+05  2.016060e+07  9.000000e+04  2.000000e+04\n",
       "50%    2.018113e+07  1.930000e+05  2.018101e+07  1.400000e+05  4.000000e+04\n",
       "75%    2.022033e+07  2.000000e+05  2.022022e+07  1.600000e+05  8.000000e+04\n",
       "max    2.023123e+07  2.200000e+05  2.023123e+07  2.300000e+05  5.500000e+05"
      ]
     },
     "execution_count": 36,
     "metadata": {},
     "output_type": "execute_result"
    }
   ],
   "source": [
    "data.describe()"
   ]
  },
  {
   "cell_type": "code",
   "execution_count": 37,
   "metadata": {},
   "outputs": [],
   "source": [
    "# Extract year from PBLPRFR_DE data\n",
    "data['PBLPRFR_DE'] = data['PBLPRFR_DE'].astype(str)\n",
    "data['Year'] = data['PBLPRFR_DE'].str[:4]"
   ]
  },
  {
   "cell_type": "code",
   "execution_count": 38,
   "metadata": {},
   "outputs": [
    {
     "data": {
      "text/plain": [
       "array(['2023', '2022', '2021', '2020', '2019', '2018', '2017', '2016',\n",
       "       '2015'], dtype=object)"
      ]
     },
     "execution_count": 38,
     "metadata": {},
     "output_type": "execute_result"
    }
   ],
   "source": [
    "data['Year'].unique()"
   ]
  },
  {
   "cell_type": "code",
   "execution_count": 39,
   "metadata": {},
   "outputs": [],
   "source": [
    "# Extract month from PBLPRFR_DE data\n",
    "data['Month'] = data['PBLPRFR_DE'].str[4:6]"
   ]
  },
  {
   "cell_type": "code",
   "execution_count": 40,
   "metadata": {},
   "outputs": [
    {
     "data": {
      "text/plain": [
       "array(['03', '02', '12', '11', '01', '10', '08', '07', '06', '05', '09',\n",
       "       '04'], dtype=object)"
      ]
     },
     "execution_count": 40,
     "metadata": {},
     "output_type": "execute_result"
    }
   ],
   "source": [
    "data['Month'].unique()"
   ]
  },
  {
   "cell_type": "code",
   "execution_count": 41,
   "metadata": {},
   "outputs": [
    {
     "data": {
      "text/html": [
       "<div>\n",
       "<style scoped>\n",
       "    .dataframe tbody tr th:only-of-type {\n",
       "        vertical-align: middle;\n",
       "    }\n",
       "\n",
       "    .dataframe tbody tr th {\n",
       "        vertical-align: top;\n",
       "    }\n",
       "\n",
       "    .dataframe thead th {\n",
       "        text-align: right;\n",
       "    }\n",
       "</style>\n",
       "<table border=\"1\" class=\"dataframe\">\n",
       "  <thead>\n",
       "    <tr style=\"text-align: right;\">\n",
       "      <th></th>\n",
       "      <th>PBLPRFR_NM</th>\n",
       "      <th>PBLPRFR_PLACE_NM</th>\n",
       "      <th>PBLPRFR_TIME</th>\n",
       "      <th>GENRE_NM</th>\n",
       "      <th>PRC_CN</th>\n",
       "      <th>HMPG_URL</th>\n",
       "      <th>SETLE_DE</th>\n",
       "      <th>SETLE_TIME</th>\n",
       "      <th>DSCNT_CN</th>\n",
       "      <th>SETLE_PRICE</th>\n",
       "      <th>MBER_GRAD_NM</th>\n",
       "      <th>BN_VALUE</th>\n",
       "      <th>SEXDSTN_VALUE</th>\n",
       "      <th>OC_AREA_NM</th>\n",
       "      <th>RFN_AT</th>\n",
       "      <th>Year</th>\n",
       "      <th>Month</th>\n",
       "    </tr>\n",
       "  </thead>\n",
       "  <tbody>\n",
       "    <tr>\n",
       "      <th>0</th>\n",
       "      <td>국립합창단 창단 50주년 기념 &lt;한국합창교향곡&gt;</td>\n",
       "      <td>콘서트홀</td>\n",
       "      <td>193000</td>\n",
       "      <td>합창</td>\n",
       "      <td>R석 30000원 / S석 20000원 / A석 10000원</td>\n",
       "      <td>https://www.sac.or.kr/site/main/show/show_view...</td>\n",
       "      <td>20230308</td>\n",
       "      <td>70000</td>\n",
       "      <td>기타 할인</td>\n",
       "      <td>24000.0</td>\n",
       "      <td>무료</td>\n",
       "      <td>50대</td>\n",
       "      <td>F</td>\n",
       "      <td>경기</td>\n",
       "      <td>N</td>\n",
       "      <td>2023</td>\n",
       "      <td>03</td>\n",
       "    </tr>\n",
       "    <tr>\n",
       "      <th>1</th>\n",
       "      <td>국립합창단 창단 50주년 기념 &lt;한국합창교향곡&gt;</td>\n",
       "      <td>콘서트홀</td>\n",
       "      <td>193000</td>\n",
       "      <td>합창</td>\n",
       "      <td>R석 30000원 / S석 20000원 / A석 10000원</td>\n",
       "      <td>https://www.sac.or.kr/site/main/show/show_view...</td>\n",
       "      <td>20230221</td>\n",
       "      <td>190000</td>\n",
       "      <td>기타 할인</td>\n",
       "      <td>10000.0</td>\n",
       "      <td>블루</td>\n",
       "      <td>60대</td>\n",
       "      <td>M</td>\n",
       "      <td>서울</td>\n",
       "      <td>N</td>\n",
       "      <td>2023</td>\n",
       "      <td>03</td>\n",
       "    </tr>\n",
       "    <tr>\n",
       "      <th>2</th>\n",
       "      <td>국립합창단 창단 50주년 기념 &lt;한국합창교향곡&gt;</td>\n",
       "      <td>콘서트홀</td>\n",
       "      <td>193000</td>\n",
       "      <td>합창</td>\n",
       "      <td>R석 30000원 / S석 20000원 / A석 10000원</td>\n",
       "      <td>https://www.sac.or.kr/site/main/show/show_view...</td>\n",
       "      <td>20230228</td>\n",
       "      <td>10000</td>\n",
       "      <td>기타 할인</td>\n",
       "      <td>8000.0</td>\n",
       "      <td>무료</td>\n",
       "      <td>60대</td>\n",
       "      <td>M</td>\n",
       "      <td>서울</td>\n",
       "      <td>N</td>\n",
       "      <td>2023</td>\n",
       "      <td>03</td>\n",
       "    </tr>\n",
       "    <tr>\n",
       "      <th>3</th>\n",
       "      <td>국립합창단 창단 50주년 기념 &lt;한국합창교향곡&gt;</td>\n",
       "      <td>콘서트홀</td>\n",
       "      <td>193000</td>\n",
       "      <td>합창</td>\n",
       "      <td>R석 30000원 / S석 20000원 / A석 10000원</td>\n",
       "      <td>https://www.sac.or.kr/site/main/show/show_view...</td>\n",
       "      <td>20230226</td>\n",
       "      <td>100000</td>\n",
       "      <td>기타 할인</td>\n",
       "      <td>24000.0</td>\n",
       "      <td>무료</td>\n",
       "      <td>40대</td>\n",
       "      <td>M</td>\n",
       "      <td>서울</td>\n",
       "      <td>N</td>\n",
       "      <td>2023</td>\n",
       "      <td>03</td>\n",
       "    </tr>\n",
       "    <tr>\n",
       "      <th>4</th>\n",
       "      <td>국립합창단 창단 50주년 기념 &lt;한국합창교향곡&gt;</td>\n",
       "      <td>콘서트홀</td>\n",
       "      <td>193000</td>\n",
       "      <td>합창</td>\n",
       "      <td>R석 30000원 / S석 20000원 / A석 10000원</td>\n",
       "      <td>https://www.sac.or.kr/site/main/show/show_view...</td>\n",
       "      <td>20230320</td>\n",
       "      <td>230000</td>\n",
       "      <td>골드회원 할인40%</td>\n",
       "      <td>18000.0</td>\n",
       "      <td>골드</td>\n",
       "      <td>60대</td>\n",
       "      <td>F</td>\n",
       "      <td>서울</td>\n",
       "      <td>N</td>\n",
       "      <td>2023</td>\n",
       "      <td>03</td>\n",
       "    </tr>\n",
       "  </tbody>\n",
       "</table>\n",
       "</div>"
      ],
      "text/plain": [
       "                   PBLPRFR_NM PBLPRFR_PLACE_NM  PBLPRFR_TIME GENRE_NM  \\\n",
       "0  국립합창단 창단 50주년 기념 <한국합창교향곡>             콘서트홀        193000       합창   \n",
       "1  국립합창단 창단 50주년 기념 <한국합창교향곡>             콘서트홀        193000       합창   \n",
       "2  국립합창단 창단 50주년 기념 <한국합창교향곡>             콘서트홀        193000       합창   \n",
       "3  국립합창단 창단 50주년 기념 <한국합창교향곡>             콘서트홀        193000       합창   \n",
       "4  국립합창단 창단 50주년 기념 <한국합창교향곡>             콘서트홀        193000       합창   \n",
       "\n",
       "                              PRC_CN  \\\n",
       "0  R석 30000원 / S석 20000원 / A석 10000원   \n",
       "1  R석 30000원 / S석 20000원 / A석 10000원   \n",
       "2  R석 30000원 / S석 20000원 / A석 10000원   \n",
       "3  R석 30000원 / S석 20000원 / A석 10000원   \n",
       "4  R석 30000원 / S석 20000원 / A석 10000원   \n",
       "\n",
       "                                            HMPG_URL  SETLE_DE  SETLE_TIME  \\\n",
       "0  https://www.sac.or.kr/site/main/show/show_view...  20230308       70000   \n",
       "1  https://www.sac.or.kr/site/main/show/show_view...  20230221      190000   \n",
       "2  https://www.sac.or.kr/site/main/show/show_view...  20230228       10000   \n",
       "3  https://www.sac.or.kr/site/main/show/show_view...  20230226      100000   \n",
       "4  https://www.sac.or.kr/site/main/show/show_view...  20230320      230000   \n",
       "\n",
       "     DSCNT_CN  SETLE_PRICE MBER_GRAD_NM BN_VALUE SEXDSTN_VALUE OC_AREA_NM  \\\n",
       "0       기타 할인      24000.0           무료      50대             F         경기   \n",
       "1       기타 할인      10000.0           블루      60대             M         서울   \n",
       "2       기타 할인       8000.0           무료      60대             M         서울   \n",
       "3       기타 할인      24000.0           무료      40대             M         서울   \n",
       "4  골드회원 할인40%      18000.0           골드      60대             F         서울   \n",
       "\n",
       "  RFN_AT  Year Month  \n",
       "0      N  2023    03  \n",
       "1      N  2023    03  \n",
       "2      N  2023    03  \n",
       "3      N  2023    03  \n",
       "4      N  2023    03  "
      ]
     },
     "execution_count": 41,
     "metadata": {},
     "output_type": "execute_result"
    }
   ],
   "source": [
    "data.drop(columns='PBLPRFR_DE', inplace=True)\n",
    "data.head()"
   ]
  },
  {
   "cell_type": "code",
   "execution_count": 42,
   "metadata": {},
   "outputs": [],
   "source": [
    "data.drop(['HMPG_URL', 'PBLPRFR_TIME', 'DSCNT_CN', 'SETLE_DE', 'SETLE_TIME'], axis=1, inplace=True)"
   ]
  },
  {
   "cell_type": "code",
   "execution_count": 43,
   "metadata": {},
   "outputs": [],
   "source": [
    "data.rename(columns={'PBLPRFR_NM': 'Performance_Name', 'PBLPRFR_PLACE_NM': 'Venue', 'GENRE_NM': 'Genre', 'PRC_CN': 'Price_Details', 'SETLE_PRICE': 'Final_Price', 'MBER_GRAD_NM': 'Member_Grade', 'BN_VALUE': 'Age_Group', 'SEXDSTN_VALUE': 'Gender', 'OC_AREA_NM': 'Region', 'RFN_AT': 'Refund_Status', 'Year': 'Year', 'Month': 'Month'}, inplace=True)\n"
   ]
  },
  {
   "cell_type": "code",
   "execution_count": 44,
   "metadata": {},
   "outputs": [
    {
     "data": {
      "text/html": [
       "<div>\n",
       "<style scoped>\n",
       "    .dataframe tbody tr th:only-of-type {\n",
       "        vertical-align: middle;\n",
       "    }\n",
       "\n",
       "    .dataframe tbody tr th {\n",
       "        vertical-align: top;\n",
       "    }\n",
       "\n",
       "    .dataframe thead th {\n",
       "        text-align: right;\n",
       "    }\n",
       "</style>\n",
       "<table border=\"1\" class=\"dataframe\">\n",
       "  <thead>\n",
       "    <tr style=\"text-align: right;\">\n",
       "      <th></th>\n",
       "      <th>Performance_Name</th>\n",
       "      <th>Venue</th>\n",
       "      <th>Genre</th>\n",
       "      <th>Price_Details</th>\n",
       "      <th>Final_Price</th>\n",
       "      <th>Member_Grade</th>\n",
       "      <th>Age_Group</th>\n",
       "      <th>Gender</th>\n",
       "      <th>Region</th>\n",
       "      <th>Refund_Status</th>\n",
       "      <th>Year</th>\n",
       "      <th>Month</th>\n",
       "    </tr>\n",
       "  </thead>\n",
       "  <tbody>\n",
       "    <tr>\n",
       "      <th>0</th>\n",
       "      <td>국립합창단 창단 50주년 기념 &lt;한국합창교향곡&gt;</td>\n",
       "      <td>콘서트홀</td>\n",
       "      <td>합창</td>\n",
       "      <td>R석 30000원 / S석 20000원 / A석 10000원</td>\n",
       "      <td>24000.0</td>\n",
       "      <td>무료</td>\n",
       "      <td>50대</td>\n",
       "      <td>F</td>\n",
       "      <td>경기</td>\n",
       "      <td>N</td>\n",
       "      <td>2023</td>\n",
       "      <td>03</td>\n",
       "    </tr>\n",
       "    <tr>\n",
       "      <th>1</th>\n",
       "      <td>국립합창단 창단 50주년 기념 &lt;한국합창교향곡&gt;</td>\n",
       "      <td>콘서트홀</td>\n",
       "      <td>합창</td>\n",
       "      <td>R석 30000원 / S석 20000원 / A석 10000원</td>\n",
       "      <td>10000.0</td>\n",
       "      <td>블루</td>\n",
       "      <td>60대</td>\n",
       "      <td>M</td>\n",
       "      <td>서울</td>\n",
       "      <td>N</td>\n",
       "      <td>2023</td>\n",
       "      <td>03</td>\n",
       "    </tr>\n",
       "    <tr>\n",
       "      <th>2</th>\n",
       "      <td>국립합창단 창단 50주년 기념 &lt;한국합창교향곡&gt;</td>\n",
       "      <td>콘서트홀</td>\n",
       "      <td>합창</td>\n",
       "      <td>R석 30000원 / S석 20000원 / A석 10000원</td>\n",
       "      <td>8000.0</td>\n",
       "      <td>무료</td>\n",
       "      <td>60대</td>\n",
       "      <td>M</td>\n",
       "      <td>서울</td>\n",
       "      <td>N</td>\n",
       "      <td>2023</td>\n",
       "      <td>03</td>\n",
       "    </tr>\n",
       "    <tr>\n",
       "      <th>3</th>\n",
       "      <td>국립합창단 창단 50주년 기념 &lt;한국합창교향곡&gt;</td>\n",
       "      <td>콘서트홀</td>\n",
       "      <td>합창</td>\n",
       "      <td>R석 30000원 / S석 20000원 / A석 10000원</td>\n",
       "      <td>24000.0</td>\n",
       "      <td>무료</td>\n",
       "      <td>40대</td>\n",
       "      <td>M</td>\n",
       "      <td>서울</td>\n",
       "      <td>N</td>\n",
       "      <td>2023</td>\n",
       "      <td>03</td>\n",
       "    </tr>\n",
       "    <tr>\n",
       "      <th>4</th>\n",
       "      <td>국립합창단 창단 50주년 기념 &lt;한국합창교향곡&gt;</td>\n",
       "      <td>콘서트홀</td>\n",
       "      <td>합창</td>\n",
       "      <td>R석 30000원 / S석 20000원 / A석 10000원</td>\n",
       "      <td>18000.0</td>\n",
       "      <td>골드</td>\n",
       "      <td>60대</td>\n",
       "      <td>F</td>\n",
       "      <td>서울</td>\n",
       "      <td>N</td>\n",
       "      <td>2023</td>\n",
       "      <td>03</td>\n",
       "    </tr>\n",
       "  </tbody>\n",
       "</table>\n",
       "</div>"
      ],
      "text/plain": [
       "             Performance_Name Venue Genre                      Price_Details  \\\n",
       "0  국립합창단 창단 50주년 기념 <한국합창교향곡>  콘서트홀    합창  R석 30000원 / S석 20000원 / A석 10000원   \n",
       "1  국립합창단 창단 50주년 기념 <한국합창교향곡>  콘서트홀    합창  R석 30000원 / S석 20000원 / A석 10000원   \n",
       "2  국립합창단 창단 50주년 기념 <한국합창교향곡>  콘서트홀    합창  R석 30000원 / S석 20000원 / A석 10000원   \n",
       "3  국립합창단 창단 50주년 기념 <한국합창교향곡>  콘서트홀    합창  R석 30000원 / S석 20000원 / A석 10000원   \n",
       "4  국립합창단 창단 50주년 기념 <한국합창교향곡>  콘서트홀    합창  R석 30000원 / S석 20000원 / A석 10000원   \n",
       "\n",
       "   Final_Price Member_Grade Age_Group Gender Region Refund_Status  Year Month  \n",
       "0      24000.0           무료       50대      F     경기             N  2023    03  \n",
       "1      10000.0           블루       60대      M     서울             N  2023    03  \n",
       "2       8000.0           무료       60대      M     서울             N  2023    03  \n",
       "3      24000.0           무료       40대      M     서울             N  2023    03  \n",
       "4      18000.0           골드       60대      F     서울             N  2023    03  "
      ]
     },
     "execution_count": 44,
     "metadata": {},
     "output_type": "execute_result"
    }
   ],
   "source": [
    "data.head()"
   ]
  },
  {
   "cell_type": "markdown",
   "metadata": {},
   "source": [
    "## Filtering data "
   ]
  },
  {
   "cell_type": "code",
   "execution_count": 45,
   "metadata": {},
   "outputs": [],
   "source": [
    "#Filter only data from 2023 and 2022\n",
    "filtered_data = data[data['Year'].isin(['2023', '2022'])]"
   ]
  },
  {
   "cell_type": "code",
   "execution_count": 46,
   "metadata": {},
   "outputs": [
    {
     "data": {
      "text/plain": [
       "array(['2023', '2022'], dtype=object)"
      ]
     },
     "execution_count": 46,
     "metadata": {},
     "output_type": "execute_result"
    }
   ],
   "source": [
    "filtered_data['Year'].unique()"
   ]
  },
  {
   "cell_type": "code",
   "execution_count": 47,
   "metadata": {},
   "outputs": [
    {
     "name": "stdout",
     "output_type": "stream",
     "text": [
      "<class 'pandas.core.frame.DataFrame'>\n",
      "Index: 977186 entries, 0 to 999999\n",
      "Data columns (total 12 columns):\n",
      " #   Column            Non-Null Count   Dtype  \n",
      "---  ------            --------------   -----  \n",
      " 0   Performance_Name  977186 non-null  object \n",
      " 1   Venue             977186 non-null  object \n",
      " 2   Genre             977186 non-null  object \n",
      " 3   Price_Details     962371 non-null  object \n",
      " 4   Final_Price       977186 non-null  float64\n",
      " 5   Member_Grade      977186 non-null  object \n",
      " 6   Age_Group         977186 non-null  object \n",
      " 7   Gender            977185 non-null  object \n",
      " 8   Region            972741 non-null  object \n",
      " 9   Refund_Status     977186 non-null  object \n",
      " 10  Year              977186 non-null  object \n",
      " 11  Month             977186 non-null  object \n",
      "dtypes: float64(1), object(11)\n",
      "memory usage: 96.9+ MB\n"
     ]
    }
   ],
   "source": [
    "filtered_data.info()"
   ]
  },
  {
   "cell_type": "code",
   "execution_count": 48,
   "metadata": {},
   "outputs": [
    {
     "data": {
      "text/plain": [
       "array(['50대', '60대', '40대', '20대', '70대이상', '30대', '10대이하', '모름'],\n",
       "      dtype=object)"
      ]
     },
     "execution_count": 48,
     "metadata": {},
     "output_type": "execute_result"
    }
   ],
   "source": [
    "filtered_data['Age_Group'].unique()"
   ]
  },
  {
   "cell_type": "code",
   "execution_count": 49,
   "metadata": {},
   "outputs": [],
   "source": [
    "# Delete unknown data in age groups\n",
    "filtered_data=filtered_data[filtered_data['Age_Group'] != '모름']"
   ]
  },
  {
   "cell_type": "code",
   "execution_count": 50,
   "metadata": {},
   "outputs": [
    {
     "data": {
      "text/plain": [
       "array(['N'], dtype=object)"
      ]
     },
     "execution_count": 50,
     "metadata": {},
     "output_type": "execute_result"
    }
   ],
   "source": [
    "# Filter only data with refund status of 'N'\n",
    "filtered_data=filtered_data[filtered_data['Refund_Status'] == 'N']\n",
    "filtered_data['Refund_Status'].unique()"
   ]
  },
  {
   "cell_type": "code",
   "execution_count": 51,
   "metadata": {},
   "outputs": [],
   "source": [
    "# Drop null data\n",
    "filtered_data.dropna(inplace=True)\n"
   ]
  },
  {
   "cell_type": "code",
   "execution_count": 52,
   "metadata": {},
   "outputs": [
    {
     "name": "stdout",
     "output_type": "stream",
     "text": [
      "<class 'pandas.core.frame.DataFrame'>\n",
      "Index: 545872 entries, 0 to 999998\n",
      "Data columns (total 12 columns):\n",
      " #   Column            Non-Null Count   Dtype  \n",
      "---  ------            --------------   -----  \n",
      " 0   Performance_Name  545872 non-null  object \n",
      " 1   Venue             545872 non-null  object \n",
      " 2   Genre             545872 non-null  object \n",
      " 3   Price_Details     545872 non-null  object \n",
      " 4   Final_Price       545872 non-null  float64\n",
      " 5   Member_Grade      545872 non-null  object \n",
      " 6   Age_Group         545872 non-null  object \n",
      " 7   Gender            545872 non-null  object \n",
      " 8   Region            545872 non-null  object \n",
      " 9   Refund_Status     545872 non-null  object \n",
      " 10  Year              545872 non-null  object \n",
      " 11  Month             545872 non-null  object \n",
      "dtypes: float64(1), object(11)\n",
      "memory usage: 54.1+ MB\n"
     ]
    }
   ],
   "source": [
    "filtered_data.info()"
   ]
  },
  {
   "cell_type": "code",
   "execution_count": 53,
   "metadata": {},
   "outputs": [
    {
     "name": "stderr",
     "output_type": "stream",
     "text": [
      "C:\\Users\\USER\\AppData\\Local\\Temp\\ipykernel_10688\\2833501624.py:2: UserWarning: Boolean Series key will be reindexed to match DataFrame index.\n",
      "  filtered_data = filtered_data[data['Genre'].isin(['뮤지컬'])]\n"
     ]
    }
   ],
   "source": [
    "# Filtering Genres to Musicals\n",
    "filtered_data = filtered_data[data['Genre'].isin(['뮤지컬'])]"
   ]
  },
  {
   "cell_type": "code",
   "execution_count": 54,
   "metadata": {},
   "outputs": [],
   "source": [
    "filtered_data.drop(columns=['Price_Details', 'Refund_Status'], inplace=True)"
   ]
  },
  {
   "cell_type": "code",
   "execution_count": 55,
   "metadata": {},
   "outputs": [
    {
     "data": {
      "text/html": [
       "<div>\n",
       "<style scoped>\n",
       "    .dataframe tbody tr th:only-of-type {\n",
       "        vertical-align: middle;\n",
       "    }\n",
       "\n",
       "    .dataframe tbody tr th {\n",
       "        vertical-align: top;\n",
       "    }\n",
       "\n",
       "    .dataframe thead th {\n",
       "        text-align: right;\n",
       "    }\n",
       "</style>\n",
       "<table border=\"1\" class=\"dataframe\">\n",
       "  <thead>\n",
       "    <tr style=\"text-align: right;\">\n",
       "      <th></th>\n",
       "      <th>Performance_Name</th>\n",
       "      <th>Venue</th>\n",
       "      <th>Genre</th>\n",
       "      <th>Final_Price</th>\n",
       "      <th>Member_Grade</th>\n",
       "      <th>Age_Group</th>\n",
       "      <th>Gender</th>\n",
       "      <th>Region</th>\n",
       "      <th>Year</th>\n",
       "      <th>Month</th>\n",
       "    </tr>\n",
       "  </thead>\n",
       "  <tbody>\n",
       "    <tr>\n",
       "      <th>938</th>\n",
       "      <td>뮤지컬 &lt; 베토벤; Beethoven Secret &gt;</td>\n",
       "      <td>오페라극장</td>\n",
       "      <td>뮤지컬</td>\n",
       "      <td>161500.0</td>\n",
       "      <td>골드</td>\n",
       "      <td>20대</td>\n",
       "      <td>M</td>\n",
       "      <td>전남</td>\n",
       "      <td>2023</td>\n",
       "      <td>03</td>\n",
       "    </tr>\n",
       "    <tr>\n",
       "      <th>939</th>\n",
       "      <td>뮤지컬 &lt; 베토벤; Beethoven Secret &gt;</td>\n",
       "      <td>오페라극장</td>\n",
       "      <td>뮤지컬</td>\n",
       "      <td>76000.0</td>\n",
       "      <td>골드</td>\n",
       "      <td>20대</td>\n",
       "      <td>M</td>\n",
       "      <td>전남</td>\n",
       "      <td>2023</td>\n",
       "      <td>03</td>\n",
       "    </tr>\n",
       "    <tr>\n",
       "      <th>940</th>\n",
       "      <td>뮤지컬 &lt; 베토벤; Beethoven Secret &gt;</td>\n",
       "      <td>오페라극장</td>\n",
       "      <td>뮤지컬</td>\n",
       "      <td>133000.0</td>\n",
       "      <td>그린</td>\n",
       "      <td>30대</td>\n",
       "      <td>F</td>\n",
       "      <td>전북</td>\n",
       "      <td>2023</td>\n",
       "      <td>03</td>\n",
       "    </tr>\n",
       "    <tr>\n",
       "      <th>943</th>\n",
       "      <td>뮤지컬 &lt; 베토벤; Beethoven Secret &gt;</td>\n",
       "      <td>오페라극장</td>\n",
       "      <td>뮤지컬</td>\n",
       "      <td>133000.0</td>\n",
       "      <td>골드</td>\n",
       "      <td>20대</td>\n",
       "      <td>M</td>\n",
       "      <td>전남</td>\n",
       "      <td>2023</td>\n",
       "      <td>03</td>\n",
       "    </tr>\n",
       "    <tr>\n",
       "      <th>945</th>\n",
       "      <td>뮤지컬 &lt; 베토벤; Beethoven Secret &gt;</td>\n",
       "      <td>오페라극장</td>\n",
       "      <td>뮤지컬</td>\n",
       "      <td>133000.0</td>\n",
       "      <td>골드</td>\n",
       "      <td>20대</td>\n",
       "      <td>M</td>\n",
       "      <td>전남</td>\n",
       "      <td>2023</td>\n",
       "      <td>03</td>\n",
       "    </tr>\n",
       "  </tbody>\n",
       "</table>\n",
       "</div>"
      ],
      "text/plain": [
       "                  Performance_Name  Venue Genre  Final_Price Member_Grade  \\\n",
       "938  뮤지컬 < 베토벤; Beethoven Secret >  오페라극장   뮤지컬     161500.0           골드   \n",
       "939  뮤지컬 < 베토벤; Beethoven Secret >  오페라극장   뮤지컬      76000.0           골드   \n",
       "940  뮤지컬 < 베토벤; Beethoven Secret >  오페라극장   뮤지컬     133000.0           그린   \n",
       "943  뮤지컬 < 베토벤; Beethoven Secret >  오페라극장   뮤지컬     133000.0           골드   \n",
       "945  뮤지컬 < 베토벤; Beethoven Secret >  오페라극장   뮤지컬     133000.0           골드   \n",
       "\n",
       "    Age_Group Gender Region  Year Month  \n",
       "938       20대      M     전남  2023    03  \n",
       "939       20대      M     전남  2023    03  \n",
       "940       30대      F     전북  2023    03  \n",
       "943       20대      M     전남  2023    03  \n",
       "945       20대      M     전남  2023    03  "
      ]
     },
     "execution_count": 55,
     "metadata": {},
     "output_type": "execute_result"
    }
   ],
   "source": [
    "filtered_data.head()"
   ]
  },
  {
   "cell_type": "code",
   "execution_count": 56,
   "metadata": {},
   "outputs": [
    {
     "data": {
      "text/plain": [
       "array(['뮤지컬 < 베토벤; Beethoven Secret >',\n",
       "       '예술의전당 전관 개관 30주년 특별 음악회 - 이경숙 피아노 리사이틀', '정밀아의 소소살롱',\n",
       "       'KT와 함께하는 예술의전당 마음을 담은 클래식(11월)',\n",
       "       '신세계와 함께하는 2023 예술의전당 토요콘서트(10월)',\n",
       "       '예술의전당 전관 개관 30주년 특별음악회-코리안챔버오케스트라 초청 콘서트',\n",
       "       '뮤지컬 일 테노레 (IL TENORE)', '예술의전당 전관 개관 30주년 특별 음악회 - 최희연 피아노 리사이틀',\n",
       "       '뮤지컬 <그날들> 10주년 기념 공연', '2023 윤이상국제음악콩쿠르 입상자 콘서트', '이희문의 소소살롱',\n",
       "       'KT와 함께하는 예술의전당 마음을 담은 클래식(10월)', '유니버설발레단 <백조의 호수>',\n",
       "       '한화와 함께하는 2023 교향악축제- 수원립교향악단(6.8)',\n",
       "       '한화와 함께하는 2023 교향악축제- 국립심포니오케스트라(6.6)',\n",
       "       '한화와 함께하는 2023 교향악축제- 인천립교향악단(6.4)',\n",
       "       '[2023 대한민국오페라페스티벌] 빨간 모자와 늑대',\n",
       "       '한화와 함께하는 2023 교향악축제- 창원시립교향악단(6.2)',\n",
       "       '한화와 함께하는 2023 교향악축제- 광주시립교향악단(6.1)', '[2023 대한민국오페라페스티벌] 라 트라비아타',\n",
       "       '신세계와 함께하는 2023 예술의전당 토요콘서트(5월)',\n",
       "       'KT와 함께하는 예술의전당 마음을 담은 클래식(9.22)',\n",
       "       '하성호와 서울팝스 35주년 특별음악회  제115회 정기연주회',\n",
       "       'KT와 함께하는 예술의전당 마음을 담은 클래식(9.2)', '한화생명과 함께하는 예술의전당 11시 콘서트(6월)',\n",
       "       '한화와 함께하는 2023 교향악축제- 부산시립교향악단(6.25)',\n",
       "       '한화와 함께하는 2023 교향악축제- 경기필하모닉오케스트라(6.24)',\n",
       "       'KT와 함께하는 예술의전당 마음을 담은 클래식(6월)',\n",
       "       '한화와 함께하는 2023 교향악축제- 제주립 제주교향악단(6.22)',\n",
       "       '한화와 함께하는 2023 교향악축제- 부천필하모닉오케스트라(6.21)',\n",
       "       '한화와 함께하는 2023 교향악축제- 대구립교향악단(6.20)',\n",
       "       '한화와 함께하는 2023 교향악축제- 서울립교향악단(6.17)',\n",
       "       '한화와 함께하는 2023 교향악축제- 대전립교향악단(6.16)',\n",
       "       '한화와 함께하는 2023 교향악축제- 공주시충남교향악단(6.15)',\n",
       "       '한화와 함께하는 2023 교향악축제- 전주시립교향악단(6.14)',\n",
       "       '한화와 함께하는 2023 교향악축제- 성남립교향악단(6.13)',\n",
       "       '한화와 함께하는 2023 교향악축제- 강릉시립교향악단(6.10)',\n",
       "       '한화와 함께하는 2023 교향악축제- KBS교향악단(6.9)', '뮤지컬<광주>', '잃어버린 얼굴 1895',\n",
       "       '2022 뮤지컬 <브로드웨이42번가>', '뮤지컬 라이온 킹 인터내셔널 투어 - 서울',\n",
       "       '뮤지컬 데스노트 (The Musical Death Note)', '프랭크 와일드혼의 뮤지컬콘서트  ONLY LOVE',\n",
       "       '한화생명과 함께하는 예술의전당 11시 콘서트(10월)'], dtype=object)"
      ]
     },
     "execution_count": 56,
     "metadata": {},
     "output_type": "execute_result"
    }
   ],
   "source": [
    "filtered_data['Performance_Name'].unique()"
   ]
  },
  {
   "cell_type": "code",
   "execution_count": 57,
   "metadata": {},
   "outputs": [],
   "source": [
    "# 장르가 혼합되어 있는 것을 확인. 우선 '교향악' 삭제\n",
    "filtered_data = filtered_data[~filtered_data['Performance_Name'].str.contains('교향악')]"
   ]
  },
  {
   "cell_type": "code",
   "execution_count": 58,
   "metadata": {},
   "outputs": [
    {
     "data": {
      "text/plain": [
       "array(['뮤지컬 < 베토벤; Beethoven Secret >',\n",
       "       '예술의전당 전관 개관 30주년 특별 음악회 - 이경숙 피아노 리사이틀', '정밀아의 소소살롱',\n",
       "       'KT와 함께하는 예술의전당 마음을 담은 클래식(11월)',\n",
       "       '신세계와 함께하는 2023 예술의전당 토요콘서트(10월)',\n",
       "       '예술의전당 전관 개관 30주년 특별음악회-코리안챔버오케스트라 초청 콘서트',\n",
       "       '뮤지컬 일 테노레 (IL TENORE)', '예술의전당 전관 개관 30주년 특별 음악회 - 최희연 피아노 리사이틀',\n",
       "       '뮤지컬 <그날들> 10주년 기념 공연', '2023 윤이상국제음악콩쿠르 입상자 콘서트', '이희문의 소소살롱',\n",
       "       'KT와 함께하는 예술의전당 마음을 담은 클래식(10월)', '유니버설발레단 <백조의 호수>',\n",
       "       '[2023 대한민국오페라페스티벌] 빨간 모자와 늑대', '[2023 대한민국오페라페스티벌] 라 트라비아타',\n",
       "       '신세계와 함께하는 2023 예술의전당 토요콘서트(5월)',\n",
       "       'KT와 함께하는 예술의전당 마음을 담은 클래식(9.22)',\n",
       "       '하성호와 서울팝스 35주년 특별음악회  제115회 정기연주회',\n",
       "       'KT와 함께하는 예술의전당 마음을 담은 클래식(9.2)', '한화생명과 함께하는 예술의전당 11시 콘서트(6월)',\n",
       "       'KT와 함께하는 예술의전당 마음을 담은 클래식(6월)', '뮤지컬<광주>', '잃어버린 얼굴 1895',\n",
       "       '2022 뮤지컬 <브로드웨이42번가>', '뮤지컬 라이온 킹 인터내셔널 투어 - 서울',\n",
       "       '뮤지컬 데스노트 (The Musical Death Note)', '프랭크 와일드혼의 뮤지컬콘서트  ONLY LOVE',\n",
       "       '한화생명과 함께하는 예술의전당 11시 콘서트(10월)'], dtype=object)"
      ]
     },
     "execution_count": 58,
     "metadata": {},
     "output_type": "execute_result"
    }
   ],
   "source": [
    "filtered_data['Performance_Name'].unique()"
   ]
  },
  {
   "cell_type": "code",
   "execution_count": 61,
   "metadata": {},
   "outputs": [],
   "source": [
    "filtered_data = filtered_data[~filtered_data['Performance_Name'].str.contains('함께하는')]"
   ]
  },
  {
   "cell_type": "code",
   "execution_count": 64,
   "metadata": {},
   "outputs": [
    {
     "data": {
      "text/plain": [
       "array(['뮤지컬 < 베토벤; Beethoven Secret >',\n",
       "       '예술의전당 전관 개관 30주년 특별 음악회 - 이경숙 피아노 리사이틀', '정밀아의 소소살롱',\n",
       "       '예술의전당 전관 개관 30주년 특별음악회-코리안챔버오케스트라 초청 콘서트',\n",
       "       '뮤지컬 일 테노레 (IL TENORE)', '예술의전당 전관 개관 30주년 특별 음악회 - 최희연 피아노 리사이틀',\n",
       "       '뮤지컬 <그날들> 10주년 기념 공연', '2023 윤이상국제음악콩쿠르 입상자 콘서트', '이희문의 소소살롱',\n",
       "       '유니버설발레단 <백조의 호수>', '[2023 대한민국오페라페스티벌] 빨간 모자와 늑대',\n",
       "       '[2023 대한민국오페라페스티벌] 라 트라비아타', '하성호와 서울팝스 35주년 특별음악회  제115회 정기연주회',\n",
       "       '뮤지컬<광주>', '잃어버린 얼굴 1895', '2022 뮤지컬 <브로드웨이42번가>',\n",
       "       '뮤지컬 라이온 킹 인터내셔널 투어 - 서울', '뮤지컬 데스노트 (The Musical Death Note)',\n",
       "       '프랭크 와일드혼의 뮤지컬콘서트  ONLY LOVE'], dtype=object)"
      ]
     },
     "execution_count": 64,
     "metadata": {},
     "output_type": "execute_result"
    }
   ],
   "source": [
    "filtered_data['Performance_Name'].unique()"
   ]
  },
  {
   "cell_type": "code",
   "execution_count": 65,
   "metadata": {},
   "outputs": [
    {
     "name": "stdout",
     "output_type": "stream",
     "text": [
      "<class 'pandas.core.frame.DataFrame'>\n",
      "Index: 65823 entries, 938 to 970498\n",
      "Data columns (total 10 columns):\n",
      " #   Column            Non-Null Count  Dtype  \n",
      "---  ------            --------------  -----  \n",
      " 0   Performance_Name  65823 non-null  object \n",
      " 1   Venue             65823 non-null  object \n",
      " 2   Genre             65823 non-null  object \n",
      " 3   Final_Price       65823 non-null  float64\n",
      " 4   Member_Grade      65823 non-null  object \n",
      " 5   Age_Group         65823 non-null  object \n",
      " 6   Gender            65823 non-null  object \n",
      " 7   Region            65823 non-null  object \n",
      " 8   Year              65823 non-null  object \n",
      " 9   Month             65823 non-null  object \n",
      "dtypes: float64(1), object(9)\n",
      "memory usage: 5.5+ MB\n"
     ]
    }
   ],
   "source": [
    "filtered_data.info()"
   ]
  },
  {
   "cell_type": "markdown",
   "metadata": {},
   "source": [
    "## Data sampling"
   ]
  },
  {
   "cell_type": "code",
   "execution_count": 66,
   "metadata": {},
   "outputs": [],
   "source": [
    "sampled_data = filtered_data.sample(n=10000, random_state=42)"
   ]
  },
  {
   "cell_type": "code",
   "execution_count": 67,
   "metadata": {},
   "outputs": [
    {
     "name": "stdout",
     "output_type": "stream",
     "text": [
      "<class 'pandas.core.frame.DataFrame'>\n",
      "Index: 10000 entries, 922173 to 922467\n",
      "Data columns (total 10 columns):\n",
      " #   Column            Non-Null Count  Dtype  \n",
      "---  ------            --------------  -----  \n",
      " 0   Performance_Name  10000 non-null  object \n",
      " 1   Venue             10000 non-null  object \n",
      " 2   Genre             10000 non-null  object \n",
      " 3   Final_Price       10000 non-null  float64\n",
      " 4   Member_Grade      10000 non-null  object \n",
      " 5   Age_Group         10000 non-null  object \n",
      " 6   Gender            10000 non-null  object \n",
      " 7   Region            10000 non-null  object \n",
      " 8   Year              10000 non-null  object \n",
      " 9   Month             10000 non-null  object \n",
      "dtypes: float64(1), object(9)\n",
      "memory usage: 859.4+ KB\n"
     ]
    }
   ],
   "source": [
    "sampled_data.info()"
   ]
  },
  {
   "cell_type": "code",
   "execution_count": 68,
   "metadata": {},
   "outputs": [
    {
     "data": {
      "text/html": [
       "<div>\n",
       "<style scoped>\n",
       "    .dataframe tbody tr th:only-of-type {\n",
       "        vertical-align: middle;\n",
       "    }\n",
       "\n",
       "    .dataframe tbody tr th {\n",
       "        vertical-align: top;\n",
       "    }\n",
       "\n",
       "    .dataframe thead th {\n",
       "        text-align: right;\n",
       "    }\n",
       "</style>\n",
       "<table border=\"1\" class=\"dataframe\">\n",
       "  <thead>\n",
       "    <tr style=\"text-align: right;\">\n",
       "      <th></th>\n",
       "      <th>Performance_Name</th>\n",
       "      <th>Venue</th>\n",
       "      <th>Genre</th>\n",
       "      <th>Final_Price</th>\n",
       "      <th>Member_Grade</th>\n",
       "      <th>Age_Group</th>\n",
       "      <th>Gender</th>\n",
       "      <th>Region</th>\n",
       "      <th>Year</th>\n",
       "      <th>Month</th>\n",
       "    </tr>\n",
       "  </thead>\n",
       "  <tbody>\n",
       "    <tr>\n",
       "      <th>922173</th>\n",
       "      <td>잃어버린 얼굴 1895</td>\n",
       "      <td>CJ 토월극장</td>\n",
       "      <td>뮤지컬</td>\n",
       "      <td>48000.0</td>\n",
       "      <td>무료</td>\n",
       "      <td>30대</td>\n",
       "      <td>F</td>\n",
       "      <td>서울</td>\n",
       "      <td>2022</td>\n",
       "      <td>03</td>\n",
       "    </tr>\n",
       "    <tr>\n",
       "      <th>429789</th>\n",
       "      <td>뮤지컬 &lt; 베토벤; Beethoven Secret &gt;</td>\n",
       "      <td>오페라극장</td>\n",
       "      <td>뮤지컬</td>\n",
       "      <td>80000.0</td>\n",
       "      <td>무료</td>\n",
       "      <td>50대</td>\n",
       "      <td>F</td>\n",
       "      <td>경기</td>\n",
       "      <td>2023</td>\n",
       "      <td>02</td>\n",
       "    </tr>\n",
       "    <tr>\n",
       "      <th>919104</th>\n",
       "      <td>뮤지컬 데스노트 (The Musical Death Note)</td>\n",
       "      <td>오페라극장</td>\n",
       "      <td>뮤지컬</td>\n",
       "      <td>150000.0</td>\n",
       "      <td>그린</td>\n",
       "      <td>20대</td>\n",
       "      <td>F</td>\n",
       "      <td>전북</td>\n",
       "      <td>2022</td>\n",
       "      <td>07</td>\n",
       "    </tr>\n",
       "    <tr>\n",
       "      <th>775821</th>\n",
       "      <td>뮤지컬 데스노트 (The Musical Death Note)</td>\n",
       "      <td>오페라극장</td>\n",
       "      <td>뮤지컬</td>\n",
       "      <td>70000.0</td>\n",
       "      <td>그린</td>\n",
       "      <td>40대</td>\n",
       "      <td>F</td>\n",
       "      <td>인천</td>\n",
       "      <td>2022</td>\n",
       "      <td>07</td>\n",
       "    </tr>\n",
       "    <tr>\n",
       "      <th>935599</th>\n",
       "      <td>뮤지컬 라이온 킹 인터내셔널 투어 - 서울</td>\n",
       "      <td>오페라극장</td>\n",
       "      <td>뮤지컬</td>\n",
       "      <td>171000.0</td>\n",
       "      <td>그린</td>\n",
       "      <td>30대</td>\n",
       "      <td>F</td>\n",
       "      <td>서울</td>\n",
       "      <td>2022</td>\n",
       "      <td>02</td>\n",
       "    </tr>\n",
       "  </tbody>\n",
       "</table>\n",
       "</div>"
      ],
      "text/plain": [
       "                         Performance_Name    Venue Genre  Final_Price  \\\n",
       "922173                       잃어버린 얼굴 1895  CJ 토월극장   뮤지컬      48000.0   \n",
       "429789      뮤지컬 < 베토벤; Beethoven Secret >    오페라극장   뮤지컬      80000.0   \n",
       "919104  뮤지컬 데스노트 (The Musical Death Note)    오페라극장   뮤지컬     150000.0   \n",
       "775821  뮤지컬 데스노트 (The Musical Death Note)    오페라극장   뮤지컬      70000.0   \n",
       "935599            뮤지컬 라이온 킹 인터내셔널 투어 - 서울    오페라극장   뮤지컬     171000.0   \n",
       "\n",
       "       Member_Grade Age_Group Gender Region  Year Month  \n",
       "922173           무료       30대      F     서울  2022    03  \n",
       "429789           무료       50대      F     경기  2023    02  \n",
       "919104           그린       20대      F     전북  2022    07  \n",
       "775821           그린       40대      F     인천  2022    07  \n",
       "935599           그린       30대      F     서울  2022    02  "
      ]
     },
     "execution_count": 68,
     "metadata": {},
     "output_type": "execute_result"
    }
   ],
   "source": [
    "sampled_data.head()"
   ]
  },
  {
   "cell_type": "code",
   "execution_count": 69,
   "metadata": {},
   "outputs": [],
   "source": [
    "sampled_data.to_csv('musical_data.csv', index=False)\n"
   ]
  }
 ],
 "metadata": {
  "kernelspec": {
   "display_name": "Python 3",
   "language": "python",
   "name": "python3"
  },
  "language_info": {
   "codemirror_mode": {
    "name": "ipython",
    "version": 3
   },
   "file_extension": ".py",
   "mimetype": "text/x-python",
   "name": "python",
   "nbconvert_exporter": "python",
   "pygments_lexer": "ipython3",
   "version": "3.12.5"
  }
 },
 "nbformat": 4,
 "nbformat_minor": 2
}
