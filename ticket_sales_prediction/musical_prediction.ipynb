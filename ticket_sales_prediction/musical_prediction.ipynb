{
 "cells": [
  {
   "cell_type": "code",
   "execution_count": 17,
   "metadata": {},
   "outputs": [],
   "source": [
    "import pandas as pd\n"
   ]
  },
  {
   "cell_type": "code",
   "execution_count": 18,
   "metadata": {},
   "outputs": [],
   "source": [
    "df= pd.read_csv('musical_data.csv')"
   ]
  },
  {
   "cell_type": "code",
   "execution_count": 19,
   "metadata": {},
   "outputs": [
    {
     "name": "stdout",
     "output_type": "stream",
     "text": [
      "<class 'pandas.core.frame.DataFrame'>\n",
      "RangeIndex: 10000 entries, 0 to 9999\n",
      "Data columns (total 10 columns):\n",
      " #   Column            Non-Null Count  Dtype  \n",
      "---  ------            --------------  -----  \n",
      " 0   Performance_Name  10000 non-null  object \n",
      " 1   Venue             10000 non-null  object \n",
      " 2   Genre             10000 non-null  object \n",
      " 3   Final_Price       10000 non-null  float64\n",
      " 4   Member_Grade      10000 non-null  object \n",
      " 5   Age_Group         10000 non-null  object \n",
      " 6   Gender            10000 non-null  object \n",
      " 7   Region            10000 non-null  object \n",
      " 8   Year              10000 non-null  int64  \n",
      " 9   Month             10000 non-null  int64  \n",
      "dtypes: float64(1), int64(2), object(7)\n",
      "memory usage: 781.4+ KB\n"
     ]
    }
   ],
   "source": [
    "df.info()"
   ]
  },
  {
   "cell_type": "code",
   "execution_count": 20,
   "metadata": {},
   "outputs": [
    {
     "data": {
      "text/html": [
       "<div>\n",
       "<style scoped>\n",
       "    .dataframe tbody tr th:only-of-type {\n",
       "        vertical-align: middle;\n",
       "    }\n",
       "\n",
       "    .dataframe tbody tr th {\n",
       "        vertical-align: top;\n",
       "    }\n",
       "\n",
       "    .dataframe thead th {\n",
       "        text-align: right;\n",
       "    }\n",
       "</style>\n",
       "<table border=\"1\" class=\"dataframe\">\n",
       "  <thead>\n",
       "    <tr style=\"text-align: right;\">\n",
       "      <th></th>\n",
       "      <th>Performance_Name</th>\n",
       "      <th>Venue</th>\n",
       "      <th>Genre</th>\n",
       "      <th>Final_Price</th>\n",
       "      <th>Member_Grade</th>\n",
       "      <th>Age_Group</th>\n",
       "      <th>Gender</th>\n",
       "      <th>Region</th>\n",
       "      <th>Year</th>\n",
       "      <th>Month</th>\n",
       "    </tr>\n",
       "  </thead>\n",
       "  <tbody>\n",
       "    <tr>\n",
       "      <th>0</th>\n",
       "      <td>잃어버린 얼굴 1895</td>\n",
       "      <td>CJ 토월극장</td>\n",
       "      <td>뮤지컬</td>\n",
       "      <td>48000.0</td>\n",
       "      <td>무료</td>\n",
       "      <td>30대</td>\n",
       "      <td>F</td>\n",
       "      <td>서울</td>\n",
       "      <td>2022</td>\n",
       "      <td>3</td>\n",
       "    </tr>\n",
       "    <tr>\n",
       "      <th>1</th>\n",
       "      <td>뮤지컬 &lt; 베토벤; Beethoven Secret &gt;</td>\n",
       "      <td>오페라극장</td>\n",
       "      <td>뮤지컬</td>\n",
       "      <td>80000.0</td>\n",
       "      <td>무료</td>\n",
       "      <td>50대</td>\n",
       "      <td>F</td>\n",
       "      <td>경기</td>\n",
       "      <td>2023</td>\n",
       "      <td>2</td>\n",
       "    </tr>\n",
       "    <tr>\n",
       "      <th>2</th>\n",
       "      <td>뮤지컬 데스노트 (The Musical Death Note)</td>\n",
       "      <td>오페라극장</td>\n",
       "      <td>뮤지컬</td>\n",
       "      <td>150000.0</td>\n",
       "      <td>그린</td>\n",
       "      <td>20대</td>\n",
       "      <td>F</td>\n",
       "      <td>전북</td>\n",
       "      <td>2022</td>\n",
       "      <td>7</td>\n",
       "    </tr>\n",
       "    <tr>\n",
       "      <th>3</th>\n",
       "      <td>뮤지컬 데스노트 (The Musical Death Note)</td>\n",
       "      <td>오페라극장</td>\n",
       "      <td>뮤지컬</td>\n",
       "      <td>70000.0</td>\n",
       "      <td>그린</td>\n",
       "      <td>40대</td>\n",
       "      <td>F</td>\n",
       "      <td>인천</td>\n",
       "      <td>2022</td>\n",
       "      <td>7</td>\n",
       "    </tr>\n",
       "    <tr>\n",
       "      <th>4</th>\n",
       "      <td>뮤지컬 라이온 킹 인터내셔널 투어 - 서울</td>\n",
       "      <td>오페라극장</td>\n",
       "      <td>뮤지컬</td>\n",
       "      <td>171000.0</td>\n",
       "      <td>그린</td>\n",
       "      <td>30대</td>\n",
       "      <td>F</td>\n",
       "      <td>서울</td>\n",
       "      <td>2022</td>\n",
       "      <td>2</td>\n",
       "    </tr>\n",
       "  </tbody>\n",
       "</table>\n",
       "</div>"
      ],
      "text/plain": [
       "                    Performance_Name    Venue Genre  Final_Price Member_Grade  \\\n",
       "0                       잃어버린 얼굴 1895  CJ 토월극장   뮤지컬      48000.0           무료   \n",
       "1      뮤지컬 < 베토벤; Beethoven Secret >    오페라극장   뮤지컬      80000.0           무료   \n",
       "2  뮤지컬 데스노트 (The Musical Death Note)    오페라극장   뮤지컬     150000.0           그린   \n",
       "3  뮤지컬 데스노트 (The Musical Death Note)    오페라극장   뮤지컬      70000.0           그린   \n",
       "4            뮤지컬 라이온 킹 인터내셔널 투어 - 서울    오페라극장   뮤지컬     171000.0           그린   \n",
       "\n",
       "  Age_Group Gender Region  Year  Month  \n",
       "0       30대      F     서울  2022      3  \n",
       "1       50대      F     경기  2023      2  \n",
       "2       20대      F     전북  2022      7  \n",
       "3       40대      F     인천  2022      7  \n",
       "4       30대      F     서울  2022      2  "
      ]
     },
     "execution_count": 20,
     "metadata": {},
     "output_type": "execute_result"
    }
   ],
   "source": [
    "df.head()"
   ]
  }
 ],
 "metadata": {
  "kernelspec": {
   "display_name": "Python 3",
   "language": "python",
   "name": "python3"
  },
  "language_info": {
   "codemirror_mode": {
    "name": "ipython",
    "version": 3
   },
   "file_extension": ".py",
   "mimetype": "text/x-python",
   "name": "python",
   "nbconvert_exporter": "python",
   "pygments_lexer": "ipython3",
   "version": "3.12.5"
  }
 },
 "nbformat": 4,
 "nbformat_minor": 2
}
